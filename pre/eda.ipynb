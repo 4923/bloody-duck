{
 "cells": [
  {
   "cell_type": "code",
   "execution_count": 10,
   "metadata": {},
   "outputs": [],
   "source": [
    "import os\n",
    "import re   # regex\n",
    "\n",
    "import pandas as pd\n",
    "import pandas_profiling\n",
    "import matplotlib.pyplot as plt\n",
    "\n",
    "import torch\n",
    "import tensorflow as tf"
   ]
  },
  {
   "cell_type": "markdown",
   "metadata": {},
   "source": [
    "# To-do's\n",
    "\n",
    "- [dialog](https://deview.kr/2019/schedule/285)\n",
    "    - turn 제도\n",
    "\n",
    "\n",
    "- [ ] 대화 촉발 키워드 or 패턴\n",
    "- [ ] 이 사람이 할 법한 말! generator\n",
    "    - input : keyword\n",
    "- [ ] 년도별 이달의 우수회원"
   ]
  },
  {
   "cell_type": "markdown",
   "metadata": {},
   "source": [
    "### 패턴\n",
    "\n",
    "예시 문장 : `2018년 11월 7일 오전 1:30, A : 살다살다 내가 이런짓까지 한다.` -> `일자, 발언자 : 발언내용`\n",
    "\n",
    "1. 일자\n",
    "    - 년, 월, 일 구분\n",
    "    - 한자리 일 때에도 07 등으로 자릿수 메우지 않음. \n",
    "    - 오전, 오후 구분 12시간제\n",
    "2. 발언자\n",
    "    - 데이터 추출자의 저장 상태를 따름\n",
    "    - 앞뒤로 띄어쓰기 있음\n",
    "3. 발언내용\n",
    "    - : 이하 발언내용\n",
    "    - 이모티콘은 이모티콘 분류 없이 `이모티콘` 으로 통일 but 유니코드 이모지는 원형 보존\n",
    "    - 업로드한 사진은 `사진`, 공지 및 게시글은 `톡게시판`으로 표현\n"
   ]
  },
  {
   "cell_type": "markdown",
   "metadata": {},
   "source": [
    "## 1. Load data\n",
    "\n",
    "- 바로 위에서 확인한 패턴대로 대화가 이루어지는게 아니라 `\\ufeff고삼즈 7 카카오톡 대화\\n저장한 날짜 : 2022년 1월 27일 ` 이런 부분이 있음. \n",
    "\n",
    "> 어떻게 날릴까?\n",
    "\n",
    "- [TODO] 0000년 00월 00일 오후 00:00 이 전까지의 데이터를 날려야 하는데 코드로 날릴 방법이 있을지 의문\n",
    "- 일단 파일에서 삭제\n",
    "\n",
    "> 아래와 같이 분리\n",
    "의문: 굳이 정규식을 사용할 필요가 있나\n",
    "\n",
    "1. 시각 (날짜, 시간 - 24시간제 변환)    \n",
    "    - `\\n` 기준으로 `Series` 생성\n",
    "        - 하단의 ValueError로 read_csv 사용은 불가능. readline으로 한 줄씩 읽어가며 split하는 방식 채택\n",
    "        - ValueError: Specified \\n as separator or delimiter. This forces the python engine which does not accept a line terminator. Hence it is not allowed to use the line terminator as separator.\n",
    "    - `,` 기준으로 열 분리 -> `DataFrame`\n",
    "3. 발언자 분리\n",
    "    - `:` 기준으로 앞\n",
    "    - 정규식으로 분리하면 `, : ` 에서 `,` 까지 분리되는 문제\n",
    "4. 발언 내용 분리\n",
    "    -  `:` 기준으로 이후\n",
    "    - 정규식 분리시 `:` 포함되는 문제\n"
   ]
  },
  {
   "cell_type": "code",
   "execution_count": 2,
   "metadata": {},
   "outputs": [],
   "source": [
    "# CONSTATNS\n",
    "\n",
    "KAKAOCHAT_PATH = '../data/KakaoTalkChats.txt'\n",
    "\n",
    "# Message Parser -> 이게 필요한가...\n",
    "WHEN_REGEX = \"[0-9]{4}[년.] [0-9][0-9]?[월.] [0-9][0-9]?[일.] 오\\S [0-9][0-9]?:[0-9][0-9]?,\"\n",
    "WHO_REGEX = \",.* :\"\n",
    "WHAT_REGEX = \" : .*\""
   ]
  },
  {
   "cell_type": "code",
   "execution_count": 5,
   "metadata": {},
   "outputs": [],
   "source": [
    "# R을 섞어쓰는구나 https://mustlearning.tistory.com/26\n",
    "# library(dplyr)  # https://mustlearning.tistory.com/10\n",
    "\n",
    "\n",
    "# 우선 Python 기준으로 진행\n",
    "# https://wikidocs.net/144585\n",
    "\n",
    "# raw data = rdata\n",
    "with open(KAKAOCHAT_PATH, \"r\") as chats:\n",
    "    rdata = chats.read()\n",
    "\n",
    "# apply regex\n",
    "def kakao_parser(KAKAOCHAT_PATH):\n",
    "    chat_dict = {\"when\":[], \"who\":[], \"what\":[]}\n",
    "    err_cnt = 0\n",
    "\n",
    "    with open(KAKAOCHAT_PATH, \"r\") as chats:\n",
    "        for chat in chats:\n",
    "            try:\n",
    "                when, other = chat.split(\", \")[0], chat.split(\", \")[1]\n",
    "                who, what = other.split(\" : \")[0], other.split(\" : \")[1].strip(\"\\n\")\n",
    "                \n",
    "                if when and who and what:\n",
    "                    chat_dict['when'].append(when)\n",
    "                    chat_dict['who'].append(who)\n",
    "                    chat_dict['what'].append(what)\n",
    "            except:\n",
    "                err_cnt += 1\n",
    "    print(f\"Process completed. {err_cnt} errors found.\")\n",
    "    return pd.DataFrame(chat_dict)"
   ]
  },
  {
   "cell_type": "code",
   "execution_count": 6,
   "metadata": {},
   "outputs": [
    {
     "name": "stdout",
     "output_type": "stream",
     "text": [
      "Process completed. 3183 errors found.\n"
     ]
    }
   ],
   "source": [
    "chat_df = kakao_parser(KAKAOCHAT_PATH)"
   ]
  },
  {
   "cell_type": "code",
   "execution_count": 8,
   "metadata": {},
   "outputs": [
    {
     "data": {
      "text/html": [
       "<div>\n",
       "<style scoped>\n",
       "    .dataframe tbody tr th:only-of-type {\n",
       "        vertical-align: middle;\n",
       "    }\n",
       "\n",
       "    .dataframe tbody tr th {\n",
       "        vertical-align: top;\n",
       "    }\n",
       "\n",
       "    .dataframe thead th {\n",
       "        text-align: right;\n",
       "    }\n",
       "</style>\n",
       "<table border=\"1\" class=\"dataframe\">\n",
       "  <thead>\n",
       "    <tr style=\"text-align: right;\">\n",
       "      <th></th>\n",
       "      <th>when</th>\n",
       "      <th>who</th>\n",
       "      <th>what</th>\n",
       "    </tr>\n",
       "  </thead>\n",
       "  <tbody>\n",
       "    <tr>\n",
       "      <th>213166</th>\n",
       "      <td>2022년 1월 27일 오전 12:00</td>\n",
       "      <td>홍</td>\n",
       "      <td>사진</td>\n",
       "    </tr>\n",
       "    <tr>\n",
       "      <th>213167</th>\n",
       "      <td>2022년 1월 27일 오전 12:13</td>\n",
       "      <td>윤가을</td>\n",
       "      <td>사진</td>\n",
       "    </tr>\n",
       "    <tr>\n",
       "      <th>213168</th>\n",
       "      <td>2022년 1월 27일 오전 12:13</td>\n",
       "      <td>윤가을</td>\n",
       "      <td>아 화질좋은분.?</td>\n",
       "    </tr>\n",
       "    <tr>\n",
       "      <th>213169</th>\n",
       "      <td>2022년 1월 27일 오전 12:13</td>\n",
       "      <td>윤가을</td>\n",
       "      <td>빨리 캡쳐좀여..</td>\n",
       "    </tr>\n",
       "    <tr>\n",
       "      <th>213170</th>\n",
       "      <td>2022년 1월 27일 오전 12:13</td>\n",
       "      <td>홍</td>\n",
       "      <td>사진</td>\n",
       "    </tr>\n",
       "  </tbody>\n",
       "</table>\n",
       "</div>"
      ],
      "text/plain": [
       "                         when  who       what\n",
       "213166  2022년 1월 27일 오전 12:00    홍         사진\n",
       "213167  2022년 1월 27일 오전 12:13  윤가을         사진\n",
       "213168  2022년 1월 27일 오전 12:13  윤가을  아 화질좋은분.?\n",
       "213169  2022년 1월 27일 오전 12:13  윤가을  빨리 캡쳐좀여..\n",
       "213170  2022년 1월 27일 오전 12:13    홍         사진"
      ]
     },
     "execution_count": 8,
     "metadata": {},
     "output_type": "execute_result"
    }
   ],
   "source": [
    "chat_df.tail()"
   ]
  },
  {
   "cell_type": "code",
   "execution_count": 11,
   "metadata": {},
   "outputs": [
    {
     "data": {
      "application/vnd.jupyter.widget-view+json": {
       "model_id": "9bfb230ae2fc4bf9b0d486a0a5824ec3",
       "version_major": 2,
       "version_minor": 0
      },
      "text/plain": [
       "Summarize dataset:   0%|          | 0/5 [00:00<?, ?it/s]"
      ]
     },
     "metadata": {},
     "output_type": "display_data"
    },
    {
     "data": {
      "application/vnd.jupyter.widget-view+json": {
       "model_id": "28624a93d8834b8ab4b027c8d74f617f",
       "version_major": 2,
       "version_minor": 0
      },
      "text/plain": [
       "Generate report structure:   0%|          | 0/1 [00:00<?, ?it/s]"
      ]
     },
     "metadata": {},
     "output_type": "display_data"
    },
    {
     "name": "stderr",
     "output_type": "stream",
     "text": [
      "/home/lky/anaconda3/envs/nlp_py39/lib/python3.9/site-packages/pandas_profiling/visualisation/utils.py:66: UserWarning: Glyph 54861 (\\N{HANGUL SYLLABLE HONG}) missing from current font.\n",
      "  plt.savefig(image_str, format=image_format)\n",
      "/home/lky/anaconda3/envs/nlp_py39/lib/python3.9/site-packages/pandas_profiling/visualisation/utils.py:66: UserWarning: Glyph 50577 (\\N{HANGUL SYLLABLE YANG}) missing from current font.\n",
      "  plt.savefig(image_str, format=image_format)\n",
      "/home/lky/anaconda3/envs/nlp_py39/lib/python3.9/site-packages/pandas_profiling/visualisation/utils.py:66: UserWarning: Glyph 48152 (\\N{HANGUL SYLLABLE BAN}) missing from current font.\n",
      "  plt.savefig(image_str, format=image_format)\n",
      "/home/lky/anaconda3/envs/nlp_py39/lib/python3.9/site-packages/pandas_profiling/visualisation/utils.py:66: UserWarning: Glyph 44608 (\\N{HANGUL SYLLABLE GIM}) missing from current font.\n",
      "  plt.savefig(image_str, format=image_format)\n",
      "/home/lky/anaconda3/envs/nlp_py39/lib/python3.9/site-packages/pandas_profiling/visualisation/utils.py:66: UserWarning: Glyph 52572 (\\N{HANGUL SYLLABLE COE}) missing from current font.\n",
      "  plt.savefig(image_str, format=image_format)\n",
      "/home/lky/anaconda3/envs/nlp_py39/lib/python3.9/site-packages/pandas_profiling/visualisation/utils.py:66: UserWarning: Glyph 49548 (\\N{HANGUL SYLLABLE SO}) missing from current font.\n",
      "  plt.savefig(image_str, format=image_format)\n",
      "/home/lky/anaconda3/envs/nlp_py39/lib/python3.9/site-packages/pandas_profiling/visualisation/utils.py:66: UserWarning: Glyph 50672 (\\N{HANGUL SYLLABLE YEON}) missing from current font.\n",
      "  plt.savefig(image_str, format=image_format)\n",
      "/home/lky/anaconda3/envs/nlp_py39/lib/python3.9/site-packages/pandas_profiling/visualisation/utils.py:66: UserWarning: Glyph 53468 (\\N{HANGUL SYLLABLE TAE}) missing from current font.\n",
      "  plt.savefig(image_str, format=image_format)\n",
      "/home/lky/anaconda3/envs/nlp_py39/lib/python3.9/site-packages/pandas_profiling/visualisation/utils.py:66: UserWarning: Glyph 50980 (\\N{HANGUL SYLLABLE YUN}) missing from current font.\n",
      "  plt.savefig(image_str, format=image_format)\n",
      "/home/lky/anaconda3/envs/nlp_py39/lib/python3.9/site-packages/pandas_profiling/visualisation/utils.py:66: UserWarning: Glyph 44032 (\\N{HANGUL SYLLABLE GA}) missing from current font.\n",
      "  plt.savefig(image_str, format=image_format)\n",
      "/home/lky/anaconda3/envs/nlp_py39/lib/python3.9/site-packages/pandas_profiling/visualisation/utils.py:66: UserWarning: Glyph 51012 (\\N{HANGUL SYLLABLE EUL}) missing from current font.\n",
      "  plt.savefig(image_str, format=image_format)\n",
      "/home/lky/anaconda3/envs/nlp_py39/lib/python3.9/site-packages/pandas_profiling/visualisation/utils.py:66: UserWarning: Glyph 45796 (\\N{HANGUL SYLLABLE DA}) missing from current font.\n",
      "  plt.savefig(image_str, format=image_format)\n",
      "/home/lky/anaconda3/envs/nlp_py39/lib/python3.9/site-packages/pandas_profiling/visualisation/utils.py:66: UserWarning: Glyph 51221 (\\N{HANGUL SYLLABLE JEONG}) missing from current font.\n",
      "  plt.savefig(image_str, format=image_format)\n",
      "/home/lky/anaconda3/envs/nlp_py39/lib/python3.9/site-packages/pandas_profiling/visualisation/utils.py:66: UserWarning: Glyph 47548 (\\N{HANGUL SYLLABLE RIM}) missing from current font.\n",
      "  plt.savefig(image_str, format=image_format)\n",
      "/home/lky/anaconda3/envs/nlp_py39/lib/python3.9/site-packages/pandas_profiling/visualisation/utils.py:66: UserWarning: Glyph 50508 (\\N{HANGUL SYLLABLE AL}) missing from current font.\n",
      "  plt.savefig(image_str, format=image_format)\n",
      "/home/lky/anaconda3/envs/nlp_py39/lib/python3.9/site-packages/pandas_profiling/visualisation/utils.py:66: UserWarning: Glyph 49688 (\\N{HANGUL SYLLABLE SU}) missing from current font.\n",
      "  plt.savefig(image_str, format=image_format)\n",
      "/home/lky/anaconda3/envs/nlp_py39/lib/python3.9/site-packages/pandas_profiling/visualisation/utils.py:66: UserWarning: Glyph 50630 (\\N{HANGUL SYLLABLE EOBS}) missing from current font.\n",
      "  plt.savefig(image_str, format=image_format)\n",
      "/home/lky/anaconda3/envs/nlp_py39/lib/python3.9/site-packages/pandas_profiling/visualisation/utils.py:66: UserWarning: Glyph 51020 (\\N{HANGUL SYLLABLE EUM}) missing from current font.\n",
      "  plt.savefig(image_str, format=image_format)\n",
      "/home/lky/anaconda3/envs/nlp_py39/lib/python3.9/site-packages/pandas_profiling/visualisation/utils.py:66: UserWarning: Glyph 51116 (\\N{HANGUL SYLLABLE JAE}) missing from current font.\n",
      "  plt.savefig(image_str, format=image_format)\n",
      "/home/lky/anaconda3/envs/nlp_py39/lib/python3.9/site-packages/pandas_profiling/visualisation/utils.py:66: UserWarning: Glyph 49692 (\\N{HANGUL SYLLABLE SUN}) missing from current font.\n",
      "  plt.savefig(image_str, format=image_format)\n"
     ]
    },
    {
     "data": {
      "application/vnd.jupyter.widget-view+json": {
       "model_id": "1839be15d2124a02bb30892e1738315c",
       "version_major": 2,
       "version_minor": 0
      },
      "text/plain": [
       "Render HTML:   0%|          | 0/1 [00:00<?, ?it/s]"
      ]
     },
     "metadata": {},
     "output_type": "display_data"
    },
    {
     "data": {
      "application/vnd.jupyter.widget-view+json": {
       "model_id": "cbfbd50535e445b38074e709076ef899",
       "version_major": 2,
       "version_minor": 0
      },
      "text/plain": [
       "Export report to file:   0%|          | 0/1 [00:00<?, ?it/s]"
      ]
     },
     "metadata": {},
     "output_type": "display_data"
    }
   ],
   "source": [
    "pr_report = chat_df.profile_report()\n",
    "pr_report.to_file('./pr_report.html')"
   ]
  },
  {
   "cell_type": "code",
   "execution_count": null,
   "metadata": {},
   "outputs": [],
   "source": []
  }
 ],
 "metadata": {
  "interpreter": {
   "hash": "83aba46a98e07cc16293e58f49c170e9d60cd0b6a921c95e60f52ca4b6f9312d"
  },
  "kernelspec": {
   "display_name": "Python 3.9.9 64-bit",
   "language": "python",
   "name": "python3"
  },
  "language_info": {
   "codemirror_mode": {
    "name": "ipython",
    "version": 3
   },
   "file_extension": ".py",
   "mimetype": "text/x-python",
   "name": "python",
   "nbconvert_exporter": "python",
   "pygments_lexer": "ipython3",
   "version": "3.9.7"
  },
  "orig_nbformat": 4
 },
 "nbformat": 4,
 "nbformat_minor": 2
}
